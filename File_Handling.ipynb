{
  "nbformat": 4,
  "nbformat_minor": 0,
  "metadata": {
    "colab": {
      "provenance": [],
      "authorship_tag": "ABX9TyPGY/OySj/NZ5IRCm577FOb",
      "include_colab_link": true
    },
    "kernelspec": {
      "name": "python3",
      "display_name": "Python 3"
    },
    "language_info": {
      "name": "python"
    }
  },
  "cells": [
    {
      "cell_type": "markdown",
      "metadata": {
        "id": "view-in-github",
        "colab_type": "text"
      },
      "source": [
        "<a href=\"https://colab.research.google.com/github/Syedfaizaan2004/File_Handling/blob/main/File_Handling.ipynb\" target=\"_parent\"><img src=\"https://colab.research.google.com/assets/colab-badge.svg\" alt=\"Open In Colab\"/></a>"
      ]
    },
    {
      "cell_type": "markdown",
      "source": [
        "# Theoritical Question:"
      ],
      "metadata": {
        "id": "6NDWPSExWivX"
      }
    },
    {
      "cell_type": "markdown",
      "source": [
        "Q (1) What is the difference between interpreted and compiled languages?\n",
        "\n",
        "Ans. **Interpreted language** execute code line by line, making them easier to debug but slower.\n",
        "\n",
        "**Compiled Language** translate the whole code into machine code before execution, making them faster but les flixible.\n",
        "\n"
      ],
      "metadata": {
        "id": "X5LzdmbxWp2m"
      }
    },
    {
      "cell_type": "markdown",
      "source": [
        "Q(2) What is exception handling in Python?\n",
        "\n",
        "Ans. It is a method to manage runtime errors gracefully, preventing the program from crashing and allowing alternate code to run."
      ],
      "metadata": {
        "id": "N8xhXrJUXoDd"
      }
    },
    {
      "cell_type": "markdown",
      "source": [
        "Q(3) What is the purpose of the finally block in exception handling?\n",
        "\n",
        "Ans. This block runs no matter what, whether an exception occurs or not. It is often used for cleanup task like closing files or releasing resources."
      ],
      "metadata": {
        "id": "ikAIZQZ9ZFKE"
      }
    },
    {
      "cell_type": "markdown",
      "source": [
        "Q(4) What is logging in Python?\n",
        "\n",
        "Ans. Logging records program events, errors, or status updates. it's essential for debugging, monitoring and maintaining applications."
      ],
      "metadata": {
        "id": "xcDlAeb1ZoY-"
      }
    },
    {
      "cell_type": "markdown",
      "source": [
        "Q(5) What is the significance of the __del__ method in Python?\n",
        "\n",
        "Ans. Acts as a destructor in python called when an object is about to be destroyed to release resources or perform cleanup."
      ],
      "metadata": {
        "id": "7QfjBwa3aKpy"
      }
    },
    {
      "cell_type": "markdown",
      "source": [
        "Q(6) What is the difference between import and from ... import in Python?\n",
        "\n",
        "Ans. **import** loads the entire module, requiring you to prefix function with the module name.\n",
        "\n",
        "**from....import** lets you use specific function or variables directly."
      ],
      "metadata": {
        "id": "QoSNRfWCavB6"
      }
    },
    {
      "cell_type": "markdown",
      "source": [
        "Q(7)  How can you handle multiple exceptions in Python?\n",
        "\n",
        "Ans. You can handle different exceptions using multiple except block or catch several exceptions together using a tuple."
      ],
      "metadata": {
        "id": "7Xo0M8mLbcQe"
      }
    },
    {
      "cell_type": "markdown",
      "source": [
        "Q(8) What is the purpose of the with statement when handling files in Python?\n",
        "\n",
        "Ans. It ensures that files or resources are closed or released automatically after use, even if an error occurs."
      ],
      "metadata": {
        "id": "RBfzq8nmb9xH"
      }
    },
    {
      "cell_type": "markdown",
      "source": [
        "Q(9) What is the difference between multithreading and multiprocessing?\n",
        "\n",
        "Ans. **Multithreading** runs multiple threads with in a process, sharing memory space.\n",
        "\n",
        "**Multiprocessing** runs separate processes with their own memory."
      ],
      "metadata": {
        "id": "YXAtcnbVcc_P"
      }
    },
    {
      "cell_type": "markdown",
      "source": [
        "Q(10) What are the advantages of using logging in a program?\n",
        "\n",
        "Ans. It gives a permanent record of events, helps debug issues more efficeintly, and can be configured to show differnt levels of detail."
      ],
      "metadata": {
        "id": "pk9QTKRpdLU1"
      }
    },
    {
      "cell_type": "markdown",
      "source": [
        "Q(11) What is memory management in Python?\n",
        "\n",
        "Ans. Python handles memory allocation and deallocation automatically using its built-in garbage collection system."
      ],
      "metadata": {
        "id": "EOTHbCNkd6CK"
      }
    },
    {
      "cell_type": "markdown",
      "source": [
        "Q(12) What are the basic steps involved in exception handling in Python?\n",
        "\n",
        "Ans. Place risky code in try, handle errors in except, optionally run else if no error occurs and run finally for cleanup."
      ],
      "metadata": {
        "id": "3mE0gCl_eQzl"
      }
    },
    {
      "cell_type": "markdown",
      "source": [
        "Q(13) Why is memory management important in Python?\n",
        "\n",
        "Ans Prevents memory leaks, ensures efficient resource usage, and keeps programs running smoothly."
      ],
      "metadata": {
        "id": "xkhLDkZYezXt"
      }
    },
    {
      "cell_type": "markdown",
      "source": [
        "Q(14) What is the role of try and except in exception handling?\n",
        "\n",
        "Ans. The **try** block contains the code that might cause an error, while the **except** block defines what to do if an error happens."
      ],
      "metadata": {
        "id": "VwgdGwiyfIeE"
      }
    },
    {
      "cell_type": "markdown",
      "source": [
        "Q(15)  How does Python's garbage collection system work?\n",
        "\n",
        "Ans. Python deletes unused objects using reference counting and a cyclic garbage collector to free memory."
      ],
      "metadata": {
        "id": "j4lneM12flTG"
      }
    },
    {
      "cell_type": "markdown",
      "source": [
        "Q(16) What is the purpose of the else block in exception handling?\n",
        "\n",
        "Ans. Runs only if no exception was raised in try block often used for code that should execute only when everything is fine."
      ],
      "metadata": {
        "id": "GGQ16MSCgA9h"
      }
    },
    {
      "cell_type": "markdown",
      "source": [
        "Q(17) What are the common logging levels in Python?\n",
        "\n",
        "Ans. Python logging supports levels: DEBUG, INFO, WARNING, and CRITICAL, allowing control over log detail."
      ],
      "metadata": {
        "id": "y_lGV9dXgc8N"
      }
    },
    {
      "cell_type": "markdown",
      "source": [
        "Q(18) What is the difference between os.fork() and multiprocessing in Python?\n",
        "\n",
        "Ans. **os.fork()** is Unix-specific and creates a process directly.\n",
        "\n",
        "**Multiprocessing** works on all platforms and provides a high-level API for parallelism."
      ],
      "metadata": {
        "id": "ThYaHxFDg79O"
      }
    },
    {
      "cell_type": "markdown",
      "source": [
        "Q(19) What is the importance of closing a file in Python?\n",
        "\n",
        "Ans. Ensures that changes are saved and frees system resoureces, preventing potential data loss or corruption."
      ],
      "metadata": {
        "id": "CHKjyTU1hlCW"
      }
    },
    {
      "cell_type": "markdown",
      "source": [
        "Q(20) What is the difference between file.read() and file.readline() in Python?\n",
        "\n",
        "Ans. **read()** loads the entire file into memory.\n",
        "\n",
        "**readline()** fetches one line at a time."
      ],
      "metadata": {
        "id": "ow7NWgoSiF0a"
      }
    },
    {
      "cell_type": "markdown",
      "source": [
        "Q(21) What is the logging module in Python used for?\n",
        "\n",
        "Ans. A built-in Python module for generating logs to track program execution and diagnose issues."
      ],
      "metadata": {
        "id": "6HkoeN1Qihky"
      }
    },
    {
      "cell_type": "markdown",
      "source": [
        "Q(22) What is the os module in Python used for in file handling?\n",
        "\n",
        "Ans. Allows interaction with the operating system for task like creating, removing, and navigating files and directories."
      ],
      "metadata": {
        "id": "kv9s6skyi_3F"
      }
    },
    {
      "cell_type": "markdown",
      "source": [
        "Q(23) What are the challenges associated with memory management in Python?\n",
        "\n",
        "Ans. Issues like memory leaks, fragmentation and large unused objects can cause performance problems."
      ],
      "metadata": {
        "id": "T4fdNfLMjcH8"
      }
    },
    {
      "cell_type": "markdown",
      "source": [
        "Q(24) How do you raise an exception manually in Python?\n",
        "\n",
        "Ans. Done using the raise statement, example raise ValueError (\"Invalid input\"), to signal an error intentionally."
      ],
      "metadata": {
        "id": "shal11IBkViL"
      }
    },
    {
      "cell_type": "markdown",
      "source": [
        "Q(25) Why is it important to use multithreading in certain applications?\n",
        "\n",
        "Ans. Improves responsiveness especially in GUI or network applications and handle multiple I/O tasks."
      ],
      "metadata": {
        "id": "_fZf-XQYkekD"
      }
    },
    {
      "cell_type": "markdown",
      "source": [
        "# Practical Questions:"
      ],
      "metadata": {
        "id": "WMeodYg_k3fe"
      }
    },
    {
      "cell_type": "markdown",
      "source": [
        "Q(1) How can you open a file for writing in Python and write a string to it?"
      ],
      "metadata": {
        "id": "vSp2S05Sk_Ph"
      }
    },
    {
      "cell_type": "code",
      "source": [
        "file = open(\"file.txt\", \"w\")\n",
        "file.write(\"Hello, first line in python.\\n\")\n",
        "file.write(\"Hello, second line in python.\\n\")\n",
        "file.write(\"Hello, third line in python.\\n\")\n",
        "file.close()\n",
        "print(\"writting in python is complete\")"
      ],
      "metadata": {
        "colab": {
          "base_uri": "https://localhost:8080/"
        },
        "id": "ruaXfnH2lFqN",
        "outputId": "c5268d4c-b7f9-472c-e197-ff5f526790e1"
      },
      "execution_count": 11,
      "outputs": [
        {
          "output_type": "stream",
          "name": "stdout",
          "text": [
            "writting in python is complete\n"
          ]
        }
      ]
    },
    {
      "cell_type": "markdown",
      "source": [
        "Q(2) Write a Python program to read the contents of a file and print each line?"
      ],
      "metadata": {
        "id": "9OZrDNLelq7A"
      }
    },
    {
      "cell_type": "code",
      "source": [
        "file = open(\"file.txt\", \"r\")\n",
        "for line in file:\n",
        "  print(line.strip())\n",
        "file.close()"
      ],
      "metadata": {
        "colab": {
          "base_uri": "https://localhost:8080/"
        },
        "id": "Vd4HxJeqlzc4",
        "outputId": "a5a29d66-f225-4eaa-d9b3-ea1b3027090f"
      },
      "execution_count": 2,
      "outputs": [
        {
          "output_type": "stream",
          "name": "stdout",
          "text": [
            "Hello, first line in python.\n"
          ]
        }
      ]
    },
    {
      "cell_type": "markdown",
      "source": [
        "Q(3) How would you handle a case where the file doesn't exist while trying to open it for reading?"
      ],
      "metadata": {
        "id": "uZvPpptumLja"
      }
    },
    {
      "cell_type": "code",
      "source": [
        "try:\n",
        "  with open(\"file.txt\", \"r\") as file:\n",
        "    for line in file:\n",
        "      print(line.strip())\n",
        "\n",
        "except FileNotFoundError:\n",
        "  print(\"Error: the file does not exist\")"
      ],
      "metadata": {
        "colab": {
          "base_uri": "https://localhost:8080/"
        },
        "id": "tbMBKjdkmWU5",
        "outputId": "a555936a-75b5-48bc-89c2-a1afe8b54b81"
      },
      "execution_count": 3,
      "outputs": [
        {
          "output_type": "stream",
          "name": "stdout",
          "text": [
            "Hello, first line in python.\n"
          ]
        }
      ]
    },
    {
      "cell_type": "markdown",
      "source": [
        "Q(4) Write a Python script that reads from one file and writes its content to another file?"
      ],
      "metadata": {
        "id": "u_cq4NVQm-Sp"
      }
    },
    {
      "cell_type": "code",
      "source": [
        "with open(\"file.txt\", \"r\") as src_file:\n",
        "  content = src_file.read()\n",
        "\n",
        "with open(\"file2.txt\", \"w\") as dest_file:\n",
        "  dest_file.write(content)\n",
        "\n",
        "print(\"File copied successfully\")"
      ],
      "metadata": {
        "colab": {
          "base_uri": "https://localhost:8080/"
        },
        "id": "6jFm7ZbinEtD",
        "outputId": "1fcdb4b5-4d14-4567-82f1-308ab5563ab5"
      },
      "execution_count": 5,
      "outputs": [
        {
          "output_type": "stream",
          "name": "stdout",
          "text": [
            "File copied successfully\n"
          ]
        }
      ]
    },
    {
      "cell_type": "markdown",
      "source": [
        "Q(5) How would you catch and handle division by zero error in Python?"
      ],
      "metadata": {
        "id": "b7LKLvA4ooUf"
      }
    },
    {
      "cell_type": "code",
      "source": [
        "try:\n",
        "  num1 = 10\n",
        "  num2 = 0\n",
        "  result = num1/num2\n",
        "  print(\"Result\", result)\n",
        "\n",
        "except:\n",
        "  print(\"Error: Division by zero is not allowed.\")"
      ],
      "metadata": {
        "colab": {
          "base_uri": "https://localhost:8080/"
        },
        "id": "c3SS9GoXoujB",
        "outputId": "10f27d04-6842-4431-cb41-8954e6e30662"
      },
      "execution_count": 6,
      "outputs": [
        {
          "output_type": "stream",
          "name": "stdout",
          "text": [
            "Error: Division by zero is not allowed.\n"
          ]
        }
      ]
    },
    {
      "cell_type": "markdown",
      "source": [
        "Q(6) Write a Python program that logs an error message to a log file when a division by zero exception occurs?"
      ],
      "metadata": {
        "id": "DxD_XeWOpY9R"
      }
    },
    {
      "cell_type": "code",
      "source": [
        "import logging\n",
        "\n",
        "logging.basicConfig (filename=\"error.log\", level=logging.ERROR, format=\"%(asctime)s - %(levelname)s - %(message)s\")\n",
        "\n",
        "try:\n",
        "  num1 = 10\n",
        "  num2 = 0\n",
        "  result = num1/num2\n",
        "  print(result)\n",
        "\n",
        "except ZeroDivisionError as e:\n",
        "  logging.error(\"Division by zero: %s\", e)\n",
        "  print(\"Error logged to error.log\")"
      ],
      "metadata": {
        "colab": {
          "base_uri": "https://localhost:8080/"
        },
        "id": "PJsPUoyYpqNB",
        "outputId": "b9a9644f-9e5f-461a-9bbb-55132d2ecc04"
      },
      "execution_count": 7,
      "outputs": [
        {
          "output_type": "stream",
          "name": "stderr",
          "text": [
            "ERROR:root:Division by zero: division by zero\n"
          ]
        },
        {
          "output_type": "stream",
          "name": "stdout",
          "text": [
            "Error logged to error.log\n"
          ]
        }
      ]
    },
    {
      "cell_type": "markdown",
      "source": [
        "Q(7) How do you log information at different levels (INFO, ERROR, WARNING) in Python using the logging module?\n"
      ],
      "metadata": {
        "id": "TTJY8Ri_qvpj"
      }
    },
    {
      "cell_type": "code",
      "source": [
        "import logging\n",
        "\n",
        "# Configure logging\n",
        "logging.basicConfig(filename=\"app.log\", level=logging.DEBUG, format=\"%(asctime)s - %(levelname)s - %(message)s\")\n",
        "\n",
        "logging.info(\"This is an info message.\")\n",
        "logging.warning(\"This is a warning message.\")\n",
        "logging.error(\"This is an error message.\")\n"
      ],
      "metadata": {
        "colab": {
          "base_uri": "https://localhost:8080/"
        },
        "id": "dRL1kktxrCaD",
        "outputId": "e884f54c-3b15-4313-be11-cab4325ceb9d"
      },
      "execution_count": 8,
      "outputs": [
        {
          "output_type": "stream",
          "name": "stderr",
          "text": [
            "WARNING:root:This is a warning message.\n",
            "ERROR:root:This is an error message.\n"
          ]
        }
      ]
    },
    {
      "cell_type": "markdown",
      "source": [
        "Q(8) Write a program to handle a file opening error using exception handling?"
      ],
      "metadata": {
        "id": "1nToMmUvrlRB"
      }
    },
    {
      "cell_type": "code",
      "source": [
        "try:\n",
        "    with open(\"nonexistent.txt\", \"r\") as file:\n",
        "        content = file.read()\n",
        "        print(content)\n",
        "except FileNotFoundError:\n",
        "    print(\"Error: The file you are trying to open does not exist.\")\n",
        "except PermissionError:\n",
        "    print(\"Error: You don't have permission to open this file.\")\n"
      ],
      "metadata": {
        "colab": {
          "base_uri": "https://localhost:8080/"
        },
        "id": "53yukgkarqbj",
        "outputId": "57f12cb7-f4ec-467d-f385-a16433a392fb"
      },
      "execution_count": 9,
      "outputs": [
        {
          "output_type": "stream",
          "name": "stdout",
          "text": [
            "Error: The file you are trying to open does not exist.\n"
          ]
        }
      ]
    },
    {
      "cell_type": "markdown",
      "source": [
        "Q(9)  How can you read a file line by line and store its content in a list in Python?"
      ],
      "metadata": {
        "id": "g5aQTyfwsqIa"
      }
    },
    {
      "cell_type": "code",
      "source": [
        "lines = []\n",
        "with open(\"file.txt\", \"r\") as file:\n",
        "  for line in file:\n",
        "    lines.append(line.strip())\n",
        "\n",
        "print(lines)"
      ],
      "metadata": {
        "colab": {
          "base_uri": "https://localhost:8080/"
        },
        "id": "e9A1I3sHsvjX",
        "outputId": "5deab1f1-74cc-4211-d4ef-f99810258ea3"
      },
      "execution_count": 12,
      "outputs": [
        {
          "output_type": "stream",
          "name": "stdout",
          "text": [
            "['Hello, first line in python.', 'Hello, second line in python.', 'Hello, third line in python.']\n"
          ]
        }
      ]
    },
    {
      "cell_type": "markdown",
      "source": [
        "Q(10) How can you append data to an existing file in Python?"
      ],
      "metadata": {
        "id": "TrSlM8YNtjGu"
      }
    },
    {
      "cell_type": "code",
      "source": [
        "with open (\"file.txt\", \"a\") as file:\n",
        "  file.write(\"this is new line by using append method.\")\n",
        "\n",
        "print(\"Data appended successfully\")"
      ],
      "metadata": {
        "colab": {
          "base_uri": "https://localhost:8080/"
        },
        "id": "WCtoZ5ldtpqT",
        "outputId": "bd06b882-7988-4024-8752-b295064d4278"
      },
      "execution_count": 13,
      "outputs": [
        {
          "output_type": "stream",
          "name": "stdout",
          "text": [
            "Data appended successfully\n"
          ]
        }
      ]
    },
    {
      "cell_type": "markdown",
      "source": [
        "Q(11) Write a Python program that uses a try-except block to handle an error when attempting to access a dictionary key that doesn't exist."
      ],
      "metadata": {
        "id": "LuSAkIQfuEzW"
      }
    },
    {
      "cell_type": "code",
      "source": [
        "my_dict = {\"name\": \"Syed Faizaan Ahmad\", \"age\": 22}\n",
        "try:\n",
        "  value = my_dict[\"city\"]\n",
        "  print(\"city: \", value)\n",
        "\n",
        "except KeyError:\n",
        "  print(\"Error: the specified key does not exist in the dictionary.\")"
      ],
      "metadata": {
        "colab": {
          "base_uri": "https://localhost:8080/"
        },
        "id": "7ehR9B9OuL9i",
        "outputId": "b14ea8e5-ff84-4c1f-e6a9-019ec0db70a3"
      },
      "execution_count": 14,
      "outputs": [
        {
          "output_type": "stream",
          "name": "stdout",
          "text": [
            "Error: the specified key does not exist in the dictionary.\n"
          ]
        }
      ]
    },
    {
      "cell_type": "markdown",
      "source": [
        "Q(12) Write a program that demonstrates using multiple except blocks to handle different types of exceptions?\n"
      ],
      "metadata": {
        "id": "rmIvZAUKvCpX"
      }
    },
    {
      "cell_type": "code",
      "source": [
        "try:\n",
        "    num1 = int(input(\"Enter a number: \"))\n",
        "    num2 = int(input(\"Enter another number: \"))\n",
        "    result = num1 / num2\n",
        "    print(\"Result:\", result)\n",
        "\n",
        "except ValueError:\n",
        "    print(\"Error: Please enter valid integers.\")\n",
        "\n",
        "except ZeroDivisionError:\n",
        "    print(\"Error: Division by zero is not allowed.\")\n",
        "\n",
        "except Exception as e:\n",
        "    print(f\"An unexpected error occurred: {e}\")\n"
      ],
      "metadata": {
        "colab": {
          "base_uri": "https://localhost:8080/"
        },
        "id": "Z6S9mIEMvL5A",
        "outputId": "aa76f65a-9977-40a0-b068-1cc0c7145f9d"
      },
      "execution_count": 16,
      "outputs": [
        {
          "output_type": "stream",
          "name": "stdout",
          "text": [
            "Enter a number: 3\n",
            "Enter another number: 0\n",
            "Error: Division by zero is not allowed.\n"
          ]
        }
      ]
    },
    {
      "cell_type": "markdown",
      "source": [
        "Q(13) How would you check if a file exists before attempting to read it in Python?"
      ],
      "metadata": {
        "id": "4zPmVfQ0vfID"
      }
    },
    {
      "cell_type": "code",
      "source": [
        "import os\n",
        "\n",
        "filename = \"file.txt\"\n",
        "\n",
        "if os.path.exists(filename):\n",
        "    with open(filename, \"r\") as file:\n",
        "        print(file.read())\n",
        "else:\n",
        "    print(\"File does not exist.\")\n"
      ],
      "metadata": {
        "colab": {
          "base_uri": "https://localhost:8080/"
        },
        "id": "iWqpEvZWvlUJ",
        "outputId": "b8b1a8e4-9bed-43e6-c230-00ce1444b8ea"
      },
      "execution_count": 17,
      "outputs": [
        {
          "output_type": "stream",
          "name": "stdout",
          "text": [
            "Hello, first line in python.\n",
            "Hello, second line in python.\n",
            "Hello, third line in python.\n",
            "this is new line by using append method.\n"
          ]
        }
      ]
    },
    {
      "cell_type": "markdown",
      "source": [
        "Q(14) Write a program that uses the logging module to log both informational and error messages?"
      ],
      "metadata": {
        "id": "-4-pGZ_lv57e"
      }
    },
    {
      "cell_type": "code",
      "source": [
        "import logging\n",
        "\n",
        "logging.basicConfig(\n",
        "    filename=\"app.log\",\n",
        "    level=logging.DEBUG,\n",
        "    format=\"%(asctime)s - %(levelname)s - %(message)s\"\n",
        ")\n",
        "\n",
        "logging.info(\"Program started successfully.\")\n",
        "\n",
        "try:\n",
        "    num1 = 10\n",
        "    num2 = 0\n",
        "    result = num1 / num2\n",
        "    logging.info(f\"Result of division: {result}\")\n",
        "\n",
        "except ZeroDivisionError as e:\n",
        "    logging.error(\"Division by zero occurred: %s\", e)\n",
        "\n",
        "logging.info(\"Program ended.\")\n"
      ],
      "metadata": {
        "colab": {
          "base_uri": "https://localhost:8080/"
        },
        "id": "1y-QJv72wDnm",
        "outputId": "1d75ba6d-865e-4981-e97a-dec71760714f"
      },
      "execution_count": 18,
      "outputs": [
        {
          "output_type": "stream",
          "name": "stderr",
          "text": [
            "ERROR:root:Division by zero occurred: division by zero\n"
          ]
        }
      ]
    },
    {
      "cell_type": "markdown",
      "source": [
        "Q(15) Write a Python program that prints the content of a file and handles the case when the file is empty?"
      ],
      "metadata": {
        "id": "f8u8mqjBwaqc"
      }
    },
    {
      "cell_type": "code",
      "source": [
        "try:\n",
        "    with open(\"file2.txt\", \"r\") as file:\n",
        "        content = file.read()\n",
        "\n",
        "        if content.strip() == \"\":\n",
        "            print(\"The file is empty.\")\n",
        "        else:\n",
        "            print(\"File Content:\\n\", content)\n",
        "\n",
        "except FileNotFoundError:\n",
        "    print(\"Error: The file does not exist.\")\n"
      ],
      "metadata": {
        "colab": {
          "base_uri": "https://localhost:8080/"
        },
        "id": "Mh65v6jswk2Y",
        "outputId": "6e0f45f9-139d-4ea1-d21b-34d4eec62e0b"
      },
      "execution_count": 20,
      "outputs": [
        {
          "output_type": "stream",
          "name": "stdout",
          "text": [
            "File Content:\n",
            " Hello, first line in python.\n"
          ]
        }
      ]
    },
    {
      "cell_type": "markdown",
      "source": [
        "Q(16) Demonstrate how to use memory profiling to check the memory usage of a small program?"
      ],
      "metadata": {
        "id": "p82JzZypwyhD"
      }
    },
    {
      "cell_type": "code",
      "source": [
        "from memory_profiler import profile\n",
        "\n",
        "@profile\n",
        "def create_list():\n",
        "    data = [i for i in range(100000)]\n",
        "    print(\"List created with\", len(data), \"elements.\")\n",
        "\n",
        "if __name__ == \"__main__\":\n",
        "    create_list()\n"
      ],
      "metadata": {
        "colab": {
          "base_uri": "https://localhost:8080/"
        },
        "id": "BvglWgD_w6oh",
        "outputId": "733e218b-5721-4153-81da-a8272cd1e4f5"
      },
      "execution_count": 21,
      "outputs": [
        {
          "output_type": "stream",
          "name": "stdout",
          "text": [
            "ERROR: Could not find file /tmp/ipython-input-2386032548.py\n",
            "List created with 100000 elements.\n"
          ]
        }
      ]
    },
    {
      "cell_type": "markdown",
      "source": [
        "Q(17) Write a Python program to create and write a list of numbers to a file, one number per line?"
      ],
      "metadata": {
        "id": "xxwfn4fxxtWi"
      }
    },
    {
      "cell_type": "code",
      "source": [
        "numbers = [1, 2, 3, 4, 5]\n",
        "\n",
        "with open(\"numbers.txt\", \"w\") as file:\n",
        "    for num in numbers:\n",
        "        file.write(f\"{num}\\n\")\n",
        "\n",
        "print(\"Numbers written to numbers.txt successfully.\")\n"
      ],
      "metadata": {
        "colab": {
          "base_uri": "https://localhost:8080/"
        },
        "id": "xkomYm6vxz4J",
        "outputId": "77676e0b-3788-4cde-df3f-e6f01a06fef6"
      },
      "execution_count": 22,
      "outputs": [
        {
          "output_type": "stream",
          "name": "stdout",
          "text": [
            "Numbers written to numbers.txt successfully.\n"
          ]
        }
      ]
    },
    {
      "cell_type": "markdown",
      "source": [
        "Q(18) How would you implement a basic logging setup that logs to a file with rotation after 1MB?"
      ],
      "metadata": {
        "id": "PSBMfRjqx6ke"
      }
    },
    {
      "cell_type": "code",
      "source": [
        "import logging\n",
        "from logging.handlers import RotatingFileHandler\n",
        "\n",
        "handler = RotatingFileHandler(\n",
        "    \"app.log\",\n",
        "    maxBytes=1 * 1024 * 1024,\n",
        "    backupCount=3\n",
        ")\n",
        "\n",
        "logging.basicConfig(\n",
        "    level=logging.INFO,\n",
        "    format=\"%(asctime)s - %(levelname)s - %(message)s\",\n",
        "    handlers=[handler]\n",
        ")\n",
        "\n",
        "for i in range(10000):\n",
        "    logging.info(f\"This is log message number {i}\")\n"
      ],
      "metadata": {
        "id": "2bPbwBLtyBbp"
      },
      "execution_count": 23,
      "outputs": []
    },
    {
      "cell_type": "markdown",
      "source": [
        "Q(19) Write a program that handles both IndexError and KeyError using a try-except block?"
      ],
      "metadata": {
        "id": "GQO3E0DhymLm"
      }
    },
    {
      "cell_type": "code",
      "source": [
        "my_list = [10, 20, 30]\n",
        "my_dict = {\"name\": \"Faizaan\", \"age\": 22}\n",
        "\n",
        "try:\n",
        "    print(my_list[5])\n",
        "    print(my_dict[\"city\"])\n",
        "\n",
        "except IndexError:\n",
        "    print(\"Error: List index is out of range.\")\n",
        "except KeyError:\n",
        "    print(\"Error: Dictionary key does not exist.\")\n"
      ],
      "metadata": {
        "colab": {
          "base_uri": "https://localhost:8080/"
        },
        "id": "cYSetpt1ytU_",
        "outputId": "7eefe717-fc4b-497e-ec13-9d8f51c02681"
      },
      "execution_count": 24,
      "outputs": [
        {
          "output_type": "stream",
          "name": "stdout",
          "text": [
            "Error: List index is out of range.\n"
          ]
        }
      ]
    },
    {
      "cell_type": "markdown",
      "source": [
        "Q(20) How would you open a file and read its contents using a context manager in Python?"
      ],
      "metadata": {
        "id": "FUs68ur_y7wg"
      }
    },
    {
      "cell_type": "code",
      "source": [
        "with open(\"file.txt\", \"r\") as file:\n",
        "    content = file.read()\n",
        "\n",
        "print(\"File content:\\n\", content)\n"
      ],
      "metadata": {
        "colab": {
          "base_uri": "https://localhost:8080/"
        },
        "id": "_E1ss1mAzCdb",
        "outputId": "a26f281f-cb87-4543-db45-7a9f0371f40b"
      },
      "execution_count": 26,
      "outputs": [
        {
          "output_type": "stream",
          "name": "stdout",
          "text": [
            "File content:\n",
            " Hello, first line in python.\n",
            "Hello, second line in python.\n",
            "Hello, third line in python.\n",
            "this is new line by using append method.\n"
          ]
        }
      ]
    },
    {
      "cell_type": "markdown",
      "source": [
        "Q(21) Write a Python program that reads a file and prints the number of occurrences of a specific word?"
      ],
      "metadata": {
        "id": "xQEMMCpazaAE"
      }
    },
    {
      "cell_type": "code",
      "source": [
        "filename = \"file.txt\"\n",
        "search_word = \"Python\"\n",
        "\n",
        "try:\n",
        "    with open(filename, \"r\") as file:\n",
        "        content = file.read().lower()\n",
        "\n",
        "    count = content.split().count(search_word.lower())\n",
        "    print(f\"The word '{search_word}' occurs {count} times in '{filename}'.\")\n",
        "\n",
        "except FileNotFoundError:\n",
        "    print(\"Error: The file does not exist.\")\n"
      ],
      "metadata": {
        "colab": {
          "base_uri": "https://localhost:8080/"
        },
        "id": "77hqaMjWzgDv",
        "outputId": "82fe7b14-b2a5-46a6-a366-0c63c5eee056"
      },
      "execution_count": 27,
      "outputs": [
        {
          "output_type": "stream",
          "name": "stdout",
          "text": [
            "The word 'Python' occurs 0 times in 'file.txt'.\n"
          ]
        }
      ]
    },
    {
      "cell_type": "markdown",
      "source": [
        "Q(22) How can you check if a file is empty before attempting to read its contents?"
      ],
      "metadata": {
        "id": "wsdoknGCzw2L"
      }
    },
    {
      "cell_type": "code",
      "source": [
        "import os\n",
        "\n",
        "filename = \"file1.txt\"\n",
        "\n",
        "if os.path.exists(filename) and os.path.getsize(filename) > 0:\n",
        "    with open(filename, \"r\") as file:\n",
        "        print(file.read())\n",
        "else:\n",
        "    print(\"The file is empty or does not exist.\")\n"
      ],
      "metadata": {
        "colab": {
          "base_uri": "https://localhost:8080/"
        },
        "id": "_7XlBg59z2ZK",
        "outputId": "77760c17-e4e4-4973-be8a-b1a3878d005d"
      },
      "execution_count": 29,
      "outputs": [
        {
          "output_type": "stream",
          "name": "stdout",
          "text": [
            "The file is empty or does not exist.\n"
          ]
        }
      ]
    },
    {
      "cell_type": "markdown",
      "source": [
        "Q(23) Write a Python program that writes to a log file when an error occurs during file handling."
      ],
      "metadata": {
        "id": "-3Xw-obP0Alf"
      }
    },
    {
      "cell_type": "code",
      "source": [
        "import logging\n",
        "\n",
        "logging.basicConfig(\n",
        "    filename=\"file_errors.log\",\n",
        "    level=logging.ERROR,\n",
        "    format=\"%(asctime)s - %(levelname)s - %(message)s\"\n",
        ")\n",
        "\n",
        "filename = \"nonexistent.txt\"\n",
        "\n",
        "try:\n",
        "    with open(filename, \"r\") as file:\n",
        "        content = file.read()\n",
        "        print(content)\n",
        "\n",
        "except FileNotFoundError as e:\n",
        "    logging.error(\"File not found: %s\", e)\n",
        "    print(\"Error: File not found. Logged to file_errors.log.\")\n",
        "\n",
        "except PermissionError as e:\n",
        "    logging.error(\"Permission denied: %s\", e)\n",
        "    print(\"Error: Permission denied. Logged to file_errors.log.\")\n",
        "\n",
        "except Exception as e:\n",
        "    logging.error(\"Unexpected error: %s\", e)\n",
        "    print(\"An unexpected error occurred. Logged to file_errors.log.\")\n"
      ],
      "metadata": {
        "colab": {
          "base_uri": "https://localhost:8080/"
        },
        "id": "lBq35BnK0Hpj",
        "outputId": "ad3ba23a-be52-4441-f835-fb37cb0026d3"
      },
      "execution_count": 30,
      "outputs": [
        {
          "output_type": "stream",
          "name": "stderr",
          "text": [
            "ERROR:root:File not found: [Errno 2] No such file or directory: 'nonexistent.txt'\n"
          ]
        },
        {
          "output_type": "stream",
          "name": "stdout",
          "text": [
            "Error: File not found. Logged to file_errors.log.\n"
          ]
        }
      ]
    }
  ]
}